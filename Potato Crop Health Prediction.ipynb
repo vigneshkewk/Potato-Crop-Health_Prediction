{
 "cells": [
  {
   "cell_type": "code",
   "execution_count": 1,
   "id": "0028bb31-c2d9-40b5-9c72-f6e0a249d40c",
   "metadata": {},
   "outputs": [],
   "source": [
    "# unzipping\n",
    "import zipfile\n",
    "import os\n",
    "import cv2\n",
    "import numpy as np\n",
    "import pandas as pd"
   ]
  },
  {
   "cell_type": "code",
   "execution_count": 3,
   "id": "e7617c11-6e08-4979-84fd-d8fb619bf2bf",
   "metadata": {},
   "outputs": [],
   "source": [
    "zip_path = r\"C:\\Users\\upscv\\innomatics codes\\Machine Learning\\ML Datasets(Datacollection)\\Kaggle image datasets.zip\" # zip file location\n",
    "folder = r'D:\\potato' # where we want to extract the files"
   ]
  },
  {
   "cell_type": "code",
   "execution_count": 5,
   "id": "6dddab90-8dd7-45f2-bcaa-29013bcd0165",
   "metadata": {},
   "outputs": [],
   "source": [
    "with zipfile.ZipFile(zip_path,'r') as file:\n",
    "    file.extractall(folder)"
   ]
  },
  {
   "cell_type": "code",
   "execution_count": 6,
   "id": "bca903a4-7f21-4f5f-a197-7b0526a5d906",
   "metadata": {},
   "outputs": [],
   "source": [
    "# acessing the extracted files\n",
    "origin_path = r'D:\\potato\\PlantVillage\\PlantVillage'\n",
    "os.chdir(origin_path)"
   ]
  },
  {
   "cell_type": "code",
   "execution_count": 7,
   "id": "3520a668-8538-4a43-9bd4-6f35e7c8a967",
   "metadata": {},
   "outputs": [
    {
     "data": {
      "text/plain": [
       "'D:\\\\potato\\\\PlantVillage\\\\PlantVillage'"
      ]
     },
     "execution_count": 7,
     "metadata": {},
     "output_type": "execute_result"
    }
   ],
   "source": [
    "os.getcwd()# now we changed to our required directory"
   ]
  },
  {
   "cell_type": "code",
   "execution_count": 8,
   "id": "1451ded7-7f93-4d49-ad05-f47c410adf73",
   "metadata": {},
   "outputs": [
    {
     "data": {
      "text/plain": [
       "['Potato___Early_blight', 'Potato___healthy', 'Potato___Late_blight']"
      ]
     },
     "execution_count": 8,
     "metadata": {},
     "output_type": "execute_result"
    }
   ],
   "source": [
    "os.listdir()"
   ]
  },
  {
   "cell_type": "code",
   "execution_count": 9,
   "id": "a5077895-ddf4-442a-9e72-4e78f0aba9e6",
   "metadata": {},
   "outputs": [],
   "source": [
    "## main code\n",
    "# The below code is the code for converting image into numerical"
   ]
  },
  {
   "cell_type": "code",
   "execution_count": 15,
   "id": "1dcb5b6e-39cb-4e1c-bc3b-38c49276e8e9",
   "metadata": {},
   "outputs": [],
   "source": [
    "origin_path = r'D:\\potato\\PlantVillage\\PlantVillage'\n",
    "os.chdir(origin_path)\n",
    "Rows = []\n",
    "label = []\n",
    "for i in os.listdir():\n",
    "    path = origin_path+'\\\\'+i\n",
    "    os.chdir(path) # here it goes in to one of the file\n",
    "    for image in os.listdir():\n",
    "        arr = cv2.imread(image)\n",
    "        resized_arr = np.resize(arr,(150,150))\n",
    "        row  =resized_arr.flatten()\n",
    "        Rows.append(row)\n",
    "        #labelling the above line data\n",
    "        label.append(i.split('___')[-1]) # labelling"
   ]
  },
  {
   "cell_type": "code",
   "execution_count": 16,
   "id": "93064423-7ae1-463e-91bd-dc04a3c701e1",
   "metadata": {},
   "outputs": [],
   "source": [
    "df1 = pd.DataFrame(Rows)\n",
    "df2 = pd.DataFrame(label,columns=['status'])"
   ]
  },
  {
   "cell_type": "code",
   "execution_count": 17,
   "id": "a7aa1f1f-f539-41dc-9577-1eb7cb79287e",
   "metadata": {},
   "outputs": [],
   "source": [
    "df = pd.concat([df1,df2],axis=1)"
   ]
  },
  {
   "cell_type": "code",
   "execution_count": 18,
   "id": "4bf42c49-f2e8-4176-9a5d-479deaffa4f9",
   "metadata": {},
   "outputs": [
    {
     "data": {
      "text/html": [
       "<div>\n",
       "<style scoped>\n",
       "    .dataframe tbody tr th:only-of-type {\n",
       "        vertical-align: middle;\n",
       "    }\n",
       "\n",
       "    .dataframe tbody tr th {\n",
       "        vertical-align: top;\n",
       "    }\n",
       "\n",
       "    .dataframe thead th {\n",
       "        text-align: right;\n",
       "    }\n",
       "</style>\n",
       "<table border=\"1\" class=\"dataframe\">\n",
       "  <thead>\n",
       "    <tr style=\"text-align: right;\">\n",
       "      <th></th>\n",
       "      <th>0</th>\n",
       "      <th>1</th>\n",
       "      <th>2</th>\n",
       "      <th>3</th>\n",
       "      <th>4</th>\n",
       "      <th>5</th>\n",
       "      <th>6</th>\n",
       "      <th>7</th>\n",
       "      <th>8</th>\n",
       "      <th>9</th>\n",
       "      <th>...</th>\n",
       "      <th>22491</th>\n",
       "      <th>22492</th>\n",
       "      <th>22493</th>\n",
       "      <th>22494</th>\n",
       "      <th>22495</th>\n",
       "      <th>22496</th>\n",
       "      <th>22497</th>\n",
       "      <th>22498</th>\n",
       "      <th>22499</th>\n",
       "      <th>status</th>\n",
       "    </tr>\n",
       "  </thead>\n",
       "  <tbody>\n",
       "    <tr>\n",
       "      <th>0</th>\n",
       "      <td>127</td>\n",
       "      <td>120</td>\n",
       "      <td>123</td>\n",
       "      <td>165</td>\n",
       "      <td>158</td>\n",
       "      <td>161</td>\n",
       "      <td>152</td>\n",
       "      <td>145</td>\n",
       "      <td>148</td>\n",
       "      <td>145</td>\n",
       "      <td>...</td>\n",
       "      <td>127</td>\n",
       "      <td>123</td>\n",
       "      <td>128</td>\n",
       "      <td>168</td>\n",
       "      <td>167</td>\n",
       "      <td>171</td>\n",
       "      <td>122</td>\n",
       "      <td>121</td>\n",
       "      <td>125</td>\n",
       "      <td>Early_blight</td>\n",
       "    </tr>\n",
       "    <tr>\n",
       "      <th>1</th>\n",
       "      <td>169</td>\n",
       "      <td>162</td>\n",
       "      <td>169</td>\n",
       "      <td>170</td>\n",
       "      <td>163</td>\n",
       "      <td>170</td>\n",
       "      <td>165</td>\n",
       "      <td>154</td>\n",
       "      <td>162</td>\n",
       "      <td>164</td>\n",
       "      <td>...</td>\n",
       "      <td>139</td>\n",
       "      <td>167</td>\n",
       "      <td>168</td>\n",
       "      <td>140</td>\n",
       "      <td>163</td>\n",
       "      <td>165</td>\n",
       "      <td>153</td>\n",
       "      <td>174</td>\n",
       "      <td>176</td>\n",
       "      <td>Early_blight</td>\n",
       "    </tr>\n",
       "    <tr>\n",
       "      <th>2</th>\n",
       "      <td>203</td>\n",
       "      <td>196</td>\n",
       "      <td>199</td>\n",
       "      <td>198</td>\n",
       "      <td>191</td>\n",
       "      <td>194</td>\n",
       "      <td>191</td>\n",
       "      <td>184</td>\n",
       "      <td>187</td>\n",
       "      <td>188</td>\n",
       "      <td>...</td>\n",
       "      <td>113</td>\n",
       "      <td>162</td>\n",
       "      <td>142</td>\n",
       "      <td>117</td>\n",
       "      <td>163</td>\n",
       "      <td>144</td>\n",
       "      <td>110</td>\n",
       "      <td>159</td>\n",
       "      <td>137</td>\n",
       "      <td>Early_blight</td>\n",
       "    </tr>\n",
       "    <tr>\n",
       "      <th>3</th>\n",
       "      <td>114</td>\n",
       "      <td>97</td>\n",
       "      <td>94</td>\n",
       "      <td>143</td>\n",
       "      <td>126</td>\n",
       "      <td>123</td>\n",
       "      <td>149</td>\n",
       "      <td>132</td>\n",
       "      <td>129</td>\n",
       "      <td>151</td>\n",
       "      <td>...</td>\n",
       "      <td>92</td>\n",
       "      <td>95</td>\n",
       "      <td>73</td>\n",
       "      <td>113</td>\n",
       "      <td>116</td>\n",
       "      <td>94</td>\n",
       "      <td>115</td>\n",
       "      <td>121</td>\n",
       "      <td>98</td>\n",
       "      <td>Early_blight</td>\n",
       "    </tr>\n",
       "    <tr>\n",
       "      <th>4</th>\n",
       "      <td>172</td>\n",
       "      <td>156</td>\n",
       "      <td>157</td>\n",
       "      <td>178</td>\n",
       "      <td>162</td>\n",
       "      <td>163</td>\n",
       "      <td>180</td>\n",
       "      <td>164</td>\n",
       "      <td>165</td>\n",
       "      <td>176</td>\n",
       "      <td>...</td>\n",
       "      <td>189</td>\n",
       "      <td>175</td>\n",
       "      <td>177</td>\n",
       "      <td>182</td>\n",
       "      <td>168</td>\n",
       "      <td>170</td>\n",
       "      <td>180</td>\n",
       "      <td>166</td>\n",
       "      <td>168</td>\n",
       "      <td>Early_blight</td>\n",
       "    </tr>\n",
       "    <tr>\n",
       "      <th>...</th>\n",
       "      <td>...</td>\n",
       "      <td>...</td>\n",
       "      <td>...</td>\n",
       "      <td>...</td>\n",
       "      <td>...</td>\n",
       "      <td>...</td>\n",
       "      <td>...</td>\n",
       "      <td>...</td>\n",
       "      <td>...</td>\n",
       "      <td>...</td>\n",
       "      <td>...</td>\n",
       "      <td>...</td>\n",
       "      <td>...</td>\n",
       "      <td>...</td>\n",
       "      <td>...</td>\n",
       "      <td>...</td>\n",
       "      <td>...</td>\n",
       "      <td>...</td>\n",
       "      <td>...</td>\n",
       "      <td>...</td>\n",
       "      <td>...</td>\n",
       "    </tr>\n",
       "    <tr>\n",
       "      <th>2147</th>\n",
       "      <td>107</td>\n",
       "      <td>109</td>\n",
       "      <td>140</td>\n",
       "      <td>103</td>\n",
       "      <td>105</td>\n",
       "      <td>136</td>\n",
       "      <td>118</td>\n",
       "      <td>120</td>\n",
       "      <td>151</td>\n",
       "      <td>105</td>\n",
       "      <td>...</td>\n",
       "      <td>128</td>\n",
       "      <td>132</td>\n",
       "      <td>161</td>\n",
       "      <td>127</td>\n",
       "      <td>131</td>\n",
       "      <td>160</td>\n",
       "      <td>114</td>\n",
       "      <td>118</td>\n",
       "      <td>147</td>\n",
       "      <td>Late_blight</td>\n",
       "    </tr>\n",
       "    <tr>\n",
       "      <th>2148</th>\n",
       "      <td>165</td>\n",
       "      <td>158</td>\n",
       "      <td>165</td>\n",
       "      <td>168</td>\n",
       "      <td>161</td>\n",
       "      <td>168</td>\n",
       "      <td>171</td>\n",
       "      <td>164</td>\n",
       "      <td>171</td>\n",
       "      <td>172</td>\n",
       "      <td>...</td>\n",
       "      <td>165</td>\n",
       "      <td>157</td>\n",
       "      <td>164</td>\n",
       "      <td>167</td>\n",
       "      <td>159</td>\n",
       "      <td>166</td>\n",
       "      <td>170</td>\n",
       "      <td>162</td>\n",
       "      <td>169</td>\n",
       "      <td>Late_blight</td>\n",
       "    </tr>\n",
       "    <tr>\n",
       "      <th>2149</th>\n",
       "      <td>128</td>\n",
       "      <td>124</td>\n",
       "      <td>136</td>\n",
       "      <td>126</td>\n",
       "      <td>122</td>\n",
       "      <td>134</td>\n",
       "      <td>124</td>\n",
       "      <td>120</td>\n",
       "      <td>132</td>\n",
       "      <td>123</td>\n",
       "      <td>...</td>\n",
       "      <td>136</td>\n",
       "      <td>132</td>\n",
       "      <td>144</td>\n",
       "      <td>132</td>\n",
       "      <td>128</td>\n",
       "      <td>140</td>\n",
       "      <td>133</td>\n",
       "      <td>129</td>\n",
       "      <td>141</td>\n",
       "      <td>Late_blight</td>\n",
       "    </tr>\n",
       "    <tr>\n",
       "      <th>2150</th>\n",
       "      <td>137</td>\n",
       "      <td>133</td>\n",
       "      <td>144</td>\n",
       "      <td>126</td>\n",
       "      <td>122</td>\n",
       "      <td>133</td>\n",
       "      <td>126</td>\n",
       "      <td>122</td>\n",
       "      <td>133</td>\n",
       "      <td>132</td>\n",
       "      <td>...</td>\n",
       "      <td>89</td>\n",
       "      <td>121</td>\n",
       "      <td>104</td>\n",
       "      <td>105</td>\n",
       "      <td>134</td>\n",
       "      <td>119</td>\n",
       "      <td>69</td>\n",
       "      <td>101</td>\n",
       "      <td>84</td>\n",
       "      <td>Late_blight</td>\n",
       "    </tr>\n",
       "    <tr>\n",
       "      <th>2151</th>\n",
       "      <td>104</td>\n",
       "      <td>95</td>\n",
       "      <td>108</td>\n",
       "      <td>115</td>\n",
       "      <td>106</td>\n",
       "      <td>119</td>\n",
       "      <td>78</td>\n",
       "      <td>69</td>\n",
       "      <td>82</td>\n",
       "      <td>94</td>\n",
       "      <td>...</td>\n",
       "      <td>115</td>\n",
       "      <td>108</td>\n",
       "      <td>121</td>\n",
       "      <td>133</td>\n",
       "      <td>126</td>\n",
       "      <td>139</td>\n",
       "      <td>113</td>\n",
       "      <td>106</td>\n",
       "      <td>119</td>\n",
       "      <td>Late_blight</td>\n",
       "    </tr>\n",
       "  </tbody>\n",
       "</table>\n",
       "<p>2152 rows × 22501 columns</p>\n",
       "</div>"
      ],
      "text/plain": [
       "        0    1    2    3    4    5    6    7    8    9  ...  22491  22492  \\\n",
       "0     127  120  123  165  158  161  152  145  148  145  ...    127    123   \n",
       "1     169  162  169  170  163  170  165  154  162  164  ...    139    167   \n",
       "2     203  196  199  198  191  194  191  184  187  188  ...    113    162   \n",
       "3     114   97   94  143  126  123  149  132  129  151  ...     92     95   \n",
       "4     172  156  157  178  162  163  180  164  165  176  ...    189    175   \n",
       "...   ...  ...  ...  ...  ...  ...  ...  ...  ...  ...  ...    ...    ...   \n",
       "2147  107  109  140  103  105  136  118  120  151  105  ...    128    132   \n",
       "2148  165  158  165  168  161  168  171  164  171  172  ...    165    157   \n",
       "2149  128  124  136  126  122  134  124  120  132  123  ...    136    132   \n",
       "2150  137  133  144  126  122  133  126  122  133  132  ...     89    121   \n",
       "2151  104   95  108  115  106  119   78   69   82   94  ...    115    108   \n",
       "\n",
       "      22493  22494  22495  22496  22497  22498  22499        status  \n",
       "0       128    168    167    171    122    121    125  Early_blight  \n",
       "1       168    140    163    165    153    174    176  Early_blight  \n",
       "2       142    117    163    144    110    159    137  Early_blight  \n",
       "3        73    113    116     94    115    121     98  Early_blight  \n",
       "4       177    182    168    170    180    166    168  Early_blight  \n",
       "...     ...    ...    ...    ...    ...    ...    ...           ...  \n",
       "2147    161    127    131    160    114    118    147   Late_blight  \n",
       "2148    164    167    159    166    170    162    169   Late_blight  \n",
       "2149    144    132    128    140    133    129    141   Late_blight  \n",
       "2150    104    105    134    119     69    101     84   Late_blight  \n",
       "2151    121    133    126    139    113    106    119   Late_blight  \n",
       "\n",
       "[2152 rows x 22501 columns]"
      ]
     },
     "execution_count": 18,
     "metadata": {},
     "output_type": "execute_result"
    }
   ],
   "source": [
    "df"
   ]
  },
  {
   "cell_type": "markdown",
   "id": "5ba25d0b-50b8-4892-b083-4856ebc87e78",
   "metadata": {},
   "source": [
    "# Splitting the Input and Output"
   ]
  },
  {
   "cell_type": "code",
   "execution_count": 41,
   "id": "aac12a76-dfb3-4274-ab83-df7bcf09eed2",
   "metadata": {},
   "outputs": [],
   "source": [
    "x = df.drop('status',axis=1)\n",
    "y = df['status']"
   ]
  },
  {
   "cell_type": "code",
   "execution_count": 43,
   "id": "59fcd425-f965-4e60-bc7a-7179591ff509",
   "metadata": {},
   "outputs": [],
   "source": [
    "from sklearn.model_selection import train_test_split"
   ]
  },
  {
   "cell_type": "code",
   "execution_count": 50,
   "id": "7798a92e-d213-4bfa-bf01-0d9681f1e149",
   "metadata": {},
   "outputs": [],
   "source": [
    "x_train,x_test,y_train,y_test = train_test_split(x,y,test_size = 0.2,random_state = 23)"
   ]
  },
  {
   "cell_type": "markdown",
   "id": "ecd5abff-057b-4732-9faa-66831062be1d",
   "metadata": {},
   "source": [
    "# Building the model"
   ]
  },
  {
   "cell_type": "code",
   "execution_count": 53,
   "id": "252bc2dc-a02f-44fc-a604-11371e64d245",
   "metadata": {},
   "outputs": [],
   "source": [
    "# checking accuracy\n",
    "from sklearn.metrics import accuracy_score"
   ]
  },
  {
   "cell_type": "code",
   "execution_count": 55,
   "id": "7fd9713b-f754-434a-8d6d-9a0db6bd361b",
   "metadata": {},
   "outputs": [
    {
     "name": "stderr",
     "output_type": "stream",
     "text": [
      "C:\\Users\\upscv\\anaconda3\\Lib\\site-packages\\sklearn\\linear_model\\_logistic.py:469: ConvergenceWarning: lbfgs failed to converge (status=1):\n",
      "STOP: TOTAL NO. of ITERATIONS REACHED LIMIT.\n",
      "\n",
      "Increase the number of iterations (max_iter) or scale the data as shown in:\n",
      "    https://scikit-learn.org/stable/modules/preprocessing.html\n",
      "Please also refer to the documentation for alternative solver options:\n",
      "    https://scikit-learn.org/stable/modules/linear_model.html#logistic-regression\n",
      "  n_iter_i = _check_optimize_result(\n"
     ]
    },
    {
     "data": {
      "text/plain": [
       "0.8074245939675174"
      ]
     },
     "execution_count": 55,
     "metadata": {},
     "output_type": "execute_result"
    }
   ],
   "source": [
    "from sklearn.linear_model import LogisticRegression\n",
    "log = LogisticRegression()\n",
    "log.fit(x_train,y_train)\n",
    "y_pred = log.predict(x_test)\n",
    "accuracy_score(y_test,y_pred)"
   ]
  },
  {
   "cell_type": "markdown",
   "id": "4e44fbe3-4985-439e-8b18-c0a9568a50d3",
   "metadata": {},
   "source": [
    "- we got 80 percent accuracy here"
   ]
  },
  {
   "cell_type": "markdown",
   "id": "efc11e5c-0ec6-43d3-9d19-d6e09c1e7878",
   "metadata": {},
   "source": [
    "# now lets take a file from potato plant file \n",
    "# donot take from plant village bcz our ml is built on it"
   ]
  },
  {
   "cell_type": "code",
   "execution_count": 69,
   "id": "c0964f08-6670-457d-9c51-fa4ee0ab3ad9",
   "metadata": {},
   "outputs": [],
   "source": [
    "def prediction(path):\n",
    "    image = cv2.imread(path)\n",
    "    resized = np.resize(image,(150,150))\n",
    "    data = resized.flatten()\n",
    "    return log.predict([data])[0]"
   ]
  },
  {
   "cell_type": "code",
   "execution_count": 71,
   "id": "17917d2c-65c5-4530-8e46-494d68ccbe57",
   "metadata": {},
   "outputs": [
    {
     "data": {
      "text/plain": [
       "'healthy'"
      ]
     },
     "execution_count": 71,
     "metadata": {},
     "output_type": "execute_result"
    }
   ],
   "source": [
    "prediction(r\"D:\\potato\\PotatoPlants\\Potato___healthy\\3c0d6888-c7e1-4cf8-9c25-9a0b8c62ba72___RS_HL 1780.JPG\")"
   ]
  },
  {
   "cell_type": "markdown",
   "id": "78fc11aa-fce9-4cce-969c-cefc2a4ad7bf",
   "metadata": {},
   "source": [
    "## we got the correct prediction"
   ]
  },
  {
   "cell_type": "code",
   "execution_count": null,
   "id": "857345bc-6c47-4b06-82d1-a123d0874af1",
   "metadata": {},
   "outputs": [],
   "source": []
  }
 ],
 "metadata": {
  "kernelspec": {
   "display_name": "Python 3 (ipykernel)",
   "language": "python",
   "name": "python3"
  },
  "language_info": {
   "codemirror_mode": {
    "name": "ipython",
    "version": 3
   },
   "file_extension": ".py",
   "mimetype": "text/x-python",
   "name": "python",
   "nbconvert_exporter": "python",
   "pygments_lexer": "ipython3",
   "version": "3.12.4"
  }
 },
 "nbformat": 4,
 "nbformat_minor": 5
}
